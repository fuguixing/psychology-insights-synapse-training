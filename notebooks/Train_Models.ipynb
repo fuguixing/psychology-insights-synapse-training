{
 "cells": [
  {
   "cell_type": "code",
   "source": [
    "%%pyspark\n",
    "blob_account_name = \"psychologyinsights\"\n",
    "blob_container_name = \"psychologyinsightsfiles\"\n",
    "from pyspark.sql import SparkSession\n",
    "\n",
    "sc = SparkSession.builder.getOrCreate()\n",
    "token_library = sc._jvm.com.microsoft.azure.synapse.tokenlibrary.TokenLibrary\n",
    "blob_sas_token = token_library.getConnectionString(\"PsyBlobStorage\")\n",
    "\n",
    "spark.conf.set(\n",
    "    'fs.azure.sas.%s.%s.blob.core.windows.net' % (blob_container_name, blob_account_name),\n",
    "    blob_sas_token)\n",
    "df = spark.read.load('wasbs://insightfilesystem@insightaccount.blob.core.windows.net/mypersonality_final.csv', format='csv'\n",
    ", header=True,quote='\\\"',escape='\\\"'\n",
    ")\n",
    "display(df.limit(10))"
   ],
   "outputs": [
    {
     "output_type": "display_data",
     "data": {
      "application/vnd.livy.statement-meta+json": {
       "spark_pool": "insightspool",
       "session_id": "3",
       "statement_id": 2,
       "state": "finished",
       "livy_statement_state": "available",
       "queued_time": "2023-06-18T14:31:23.0432959Z",
       "session_start_time": "2023-06-18T14:31:23.1094677Z",
       "execution_start_time": "2023-06-18T14:34:36.30274Z",
       "execution_finish_time": "2023-06-18T14:34:58.0302469Z",
       "spark_jobs": null,
       "parent_msg_id": "385ffd93-595c-49bd-a61f-75582a7c44bf"
      },
      "text/plain": "StatementMeta(insightspool, 3, 2, Finished, Available)"
     },
     "metadata": {}
    },
    {
     "output_type": "display_data",
     "data": {
      "application/vnd.synapse.widget-view+json": {
       "widget_id": "b96c5440-a4fc-4581-b69c-57c1d7caec5d",
       "widget_type": "Synapse.DataFrame"
      },
      "text/plain": "SynapseWidget(Synapse.DataFrame, b96c5440-a4fc-4581-b69c-57c1d7caec5d)"
     },
     "metadata": {}
    }
   ],
   "execution_count": 3,
   "metadata": {
    "microsoft": {
     "language": "python"
    },
    "collapsed": false
   }
  },
  {
   "cell_type": "code",
   "source": [
    "from sklearn.feature_extraction.text import TfidfVectorizer\n",
    "from sklearn.ensemble import GradientBoostingRegressor\n",
    "from sklearn.model_selection import GridSearchCV\n",
    "import joblib\n",
    "from azure.storage.blob import BlobServiceClient\n",
    "\n",
    "df = df.toPandas()\n",
    "feature_col = 'STATUS'\n",
    "target_cols = ['sEXT', 'sNEU', 'sAGR', 'sCON', 'sOPN']\n",
    "\n",
    "# Train and save the best model for each target column\n",
    "for trait in target_cols:\n",
    "    # Extract features and labels\n",
    "    X = df[feature_col].values\n",
    "    y = df[trait].values\n",
    "\n",
    "    # Feature extraction\n",
    "    vectorizer = TfidfVectorizer(stop_words='english', strip_accents='ascii')\n",
    "    X_tfidf = vectorizer.fit_transform(X)\n",
    "\n",
    "    # Define the ensemble learning model\n",
    "    ensemble = GradientBoostingRegressor()\n",
    "\n",
    "    # Define the parameter grid for grid search\n",
    "    param_grid = {\n",
    "        'n_estimators': [100, 200, 300],\n",
    "        'learning_rate': [0.1, 0.05, 0.01],\n",
    "        'max_depth': [3, 4, 5]\n",
    "    }\n",
    "\n",
    "    # Perform grid search with cross-validation to find the best model and parameters\n",
    "    grid_search = GridSearchCV(ensemble, param_grid, cv=3, scoring='neg_mean_squared_error')\n",
    "    grid_search.fit(X_tfidf, y)\n",
    "\n",
    "    # Get the best model and parameters\n",
    "    best_model = grid_search.best_estimator_\n",
    "    best_params = grid_search.best_params_\n",
    "\n",
    "    # Train the best model\n",
    "    best_model.fit(X_tfidf, y)\n",
    "\n",
    "    # Save the best model to local storage\n",
    "    model_name = f\"best_model_{trait}.joblib\"\n",
    "    joblib.dump(best_model, model_name)\n",
    "    blob_service_client = BlobServiceClient(account_url=f\"https://{blob_account_name}.blob.core.windows.net\",\n",
    "                                        credential=blob_sas_token)\n",
    "\n",
    "    blob_client = blob_service_client.get_blob_client(container=blob_container_name, blob=model_name)\n",
    "    with open(model_name, \"rb\") as file:\n",
    "        blob_client.upload_blob(file)\n",
    "\n",
    "    print(\"Model file uploaded to Blob storage.\")"
   ],
   "outputs": [
    {
     "output_type": "display_data",
     "data": {
      "application/vnd.livy.statement-meta+json": {
       "spark_pool": "insightspool",
       "session_id": "3",
       "statement_id": 12,
       "state": "finished",
       "livy_statement_state": "available",
       "queued_time": "2023-06-18T14:57:33.20045Z",
       "session_start_time": null,
       "execution_start_time": "2023-06-18T14:57:33.376506Z",
       "execution_finish_time": "2023-06-18T14:58:00.7466191Z",
       "spark_jobs": null,
       "parent_msg_id": "2fbaa267-7a50-49c5-9d49-db6e01be95f4"
      },
      "text/plain": "StatementMeta(insightspool, 3, 12, Finished, Available)"
     },
     "metadata": {}
    },
    {
     "output_type": "stream",
     "name": "stdout",
     "text": [
      "Model file uploaded to Blob storage.\nModel file uploaded to Blob storage.\nModel file uploaded to Blob storage.\nModel file uploaded to Blob storage.\nModel file uploaded to Blob storage.\n"
     ]
    }
   ],
   "execution_count": 13,
   "metadata": {
    "jupyter": {
     "source_hidden": false,
     "outputs_hidden": false
    },
    "nteract": {
     "transient": {
      "deleting": false
     }
    }
   }
  },
  {
   "cell_type": "code",
   "source": [],
   "outputs": [],
   "execution_count": null,
   "metadata": {
    "jupyter": {
     "source_hidden": false,
     "outputs_hidden": false
    },
    "nteract": {
     "transient": {
      "deleting": false
     }
    }
   }
  }
 ],
 "metadata": {
  "language_info": {
   "name": "python"
  },
  "kernelspec": {
   "name": "synapse_pyspark",
   "language": "Python",
   "display_name": "Synapse PySpark"
  },
  "kernel_info": {
   "name": "synapse_pyspark"
  },
  "save_output": true,
  "synapse_widget": {
   "version": "0.1",
   "state": {
    "b96c5440-a4fc-4581-b69c-57c1d7caec5d": {
     "type": "Synapse.DataFrame",
     "sync_state": {
      "table": {
       "rows": [
        {
         "0": "b7b7764cfa1c523e4e93ab2a79a946c4",
         "1": "likes the sound of thunder.",
         "2": "2.65",
         "3": "3",
         "4": "3.15",
         "5": "3.25",
         "6": "4.4",
         "7": "n",
         "8": "y",
         "9": "n",
         "10": "n",
         "11": "y",
         "12": "06/19/09 03:21 PM",
         "13": "180",
         "14": "14861.6",
         "15": "93.29",
         "16": "0.03",
         "17": "15661",
         "18": "0.49",
         "19": "0.1"
        },
        {
         "0": "b7b7764cfa1c523e4e93ab2a79a946c4",
         "1": "is so sleepy it's not even funny that's she can't get to sleep.",
         "2": "2.65",
         "3": "3",
         "4": "3.15",
         "5": "3.25",
         "6": "4.4",
         "7": "n",
         "8": "y",
         "9": "n",
         "10": "n",
         "11": "y",
         "12": "2007/2/9 8:41",
         "13": "180",
         "14": "14861.6",
         "15": "93.29",
         "16": "0.03",
         "17": "15661",
         "18": "0.49",
         "19": "0.1"
        },
        {
         "0": "b7b7764cfa1c523e4e93ab2a79a946c4",
         "1": "is sore and wants the knot of muscles at the base of her neck to stop hurting. On the other hand, YAY I'M IN ILLINOIS! <3",
         "2": "2.65",
         "3": "3",
         "4": "3.15",
         "5": "3.25",
         "6": "4.4",
         "7": "n",
         "8": "y",
         "9": "n",
         "10": "n",
         "11": "y",
         "12": "06/15/09 01:15 PM",
         "13": "180",
         "14": "14861.6",
         "15": "93.29",
         "16": "0.03",
         "17": "15661",
         "18": "0.49",
         "19": "0.1"
        },
        {
         "0": "b7b7764cfa1c523e4e93ab2a79a946c4",
         "1": "likes how the day sounds in this new song.",
         "2": "2.65",
         "3": "3",
         "4": "3.15",
         "5": "3.25",
         "6": "4.4",
         "7": "n",
         "8": "y",
         "9": "n",
         "10": "n",
         "11": "y",
         "12": "06/22/09 04:48 AM",
         "13": "180",
         "14": "14861.6",
         "15": "93.29",
         "16": "0.03",
         "17": "15661",
         "18": "0.49",
         "19": "0.1"
        },
        {
         "0": "b7b7764cfa1c523e4e93ab2a79a946c4",
         "1": "is home. <3",
         "2": "2.65",
         "3": "3",
         "4": "3.15",
         "5": "3.25",
         "6": "4.4",
         "7": "n",
         "8": "y",
         "9": "n",
         "10": "n",
         "11": "y",
         "12": "07/20/09 02:31 AM",
         "13": "180",
         "14": "14861.6",
         "15": "93.29",
         "16": "0.03",
         "17": "15661",
         "18": "0.49",
         "19": "0.1"
        },
        {
         "0": "b7b7764cfa1c523e4e93ab2a79a946c4",
         "1": "www.thejokerblogs.com",
         "2": "2.65",
         "3": "3",
         "4": "3.15",
         "5": "3.25",
         "6": "4.4",
         "7": "n",
         "8": "y",
         "9": "n",
         "10": "n",
         "11": "y",
         "12": "07/16/09 03:21 PM",
         "13": "180",
         "14": "14861.6",
         "15": "93.29",
         "16": "0.03",
         "17": "15661",
         "18": "0.49",
         "19": "0.1"
        },
        {
         "0": "b7b7764cfa1c523e4e93ab2a79a946c4",
         "1": "saw a nun zombie, and liked it. Also, *PROPNAME* + Tentacle!Man + Psychic Powers = GREAT Party.",
         "2": "2.65",
         "3": "3",
         "4": "3.15",
         "5": "3.25",
         "6": "4.4",
         "7": "n",
         "8": "y",
         "9": "n",
         "10": "n",
         "11": "y",
         "12": "06/27/09 05:41 AM",
         "13": "180",
         "14": "14861.6",
         "15": "93.29",
         "16": "0.03",
         "17": "15661",
         "18": "0.49",
         "19": "0.1"
        },
        {
         "0": "b7b7764cfa1c523e4e93ab2a79a946c4",
         "1": "is in Kentucky. 421 miles into her 1100 mile journey home.",
         "2": "2.65",
         "3": "3",
         "4": "3.15",
         "5": "3.25",
         "6": "4.4",
         "7": "n",
         "8": "y",
         "9": "n",
         "10": "n",
         "11": "y",
         "12": "07/18/09 06:34 AM",
         "13": "180",
         "14": "14861.6",
         "15": "93.29",
         "16": "0.03",
         "17": "15661",
         "18": "0.49",
         "19": "0.1"
        },
        {
         "0": "b7b7764cfa1c523e4e93ab2a79a946c4",
         "1": "was about to finish a digital painting before her tablet went haywire. Is now contemplating the many ways she wishes to exact her revenge on faulty technology.",
         "2": "2.65",
         "3": "3",
         "4": "3.15",
         "5": "3.25",
         "6": "4.4",
         "7": "n",
         "8": "y",
         "9": "n",
         "10": "n",
         "11": "y",
         "12": "2007/9/9 14:58",
         "13": "180",
         "14": "14861.6",
         "15": "93.29",
         "16": "0.03",
         "17": "15661",
         "18": "0.49",
         "19": "0.1"
        },
        {
         "0": "b7b7764cfa1c523e4e93ab2a79a946c4",
         "1": "is celebrating her new haircut by listening to swinger music and generally looking like a doofus.",
         "2": "2.65",
         "3": "3",
         "4": "3.15",
         "5": "3.25",
         "6": "4.4",
         "7": "n",
         "8": "y",
         "9": "n",
         "10": "n",
         "11": "y",
         "12": "2007/7/9 23:41",
         "13": "180",
         "14": "14861.6",
         "15": "93.29",
         "16": "0.03",
         "17": "15661",
         "18": "0.49",
         "19": "0.1"
        }
       ],
       "schema": [
        {
         "key": "0",
         "name": "#AUTHID",
         "type": "string"
        },
        {
         "key": "1",
         "name": "STATUS",
         "type": "string"
        },
        {
         "key": "2",
         "name": "sEXT",
         "type": "string"
        },
        {
         "key": "3",
         "name": "sNEU",
         "type": "string"
        },
        {
         "key": "4",
         "name": "sAGR",
         "type": "string"
        },
        {
         "key": "5",
         "name": "sCON",
         "type": "string"
        },
        {
         "key": "6",
         "name": "sOPN",
         "type": "string"
        },
        {
         "key": "7",
         "name": "cEXT",
         "type": "string"
        },
        {
         "key": "8",
         "name": "cNEU",
         "type": "string"
        },
        {
         "key": "9",
         "name": "cAGR",
         "type": "string"
        },
        {
         "key": "10",
         "name": "cCON",
         "type": "string"
        },
        {
         "key": "11",
         "name": "cOPN",
         "type": "string"
        },
        {
         "key": "12",
         "name": "DATE",
         "type": "string"
        },
        {
         "key": "13",
         "name": "NETWORKSIZE",
         "type": "string"
        },
        {
         "key": "14",
         "name": "BETWEENNESS",
         "type": "string"
        },
        {
         "key": "15",
         "name": "NBETWEENNESS",
         "type": "string"
        },
        {
         "key": "16",
         "name": "DENSITY",
         "type": "string"
        },
        {
         "key": "17",
         "name": "BROKERAGE",
         "type": "string"
        },
        {
         "key": "18",
         "name": "NBROKERAGE",
         "type": "string"
        },
        {
         "key": "19",
         "name": "TRANSITIVITY",
         "type": "string"
        }
       ],
       "truncated": false
      },
      "isSummary": false,
      "language": "scala"
     },
     "persist_state": {
      "view": {
       "type": "details",
       "tableOptions": {},
       "chartOptions": {
        "chartType": "bar",
        "aggregationType": "count",
        "categoryFieldKeys": [
         "0"
        ],
        "seriesFieldKeys": [
         "0"
        ],
        "isStacked": false
       }
      }
     }
    }
   }
  }
 },
 "nbformat": 4,
 "nbformat_minor": 2
}
